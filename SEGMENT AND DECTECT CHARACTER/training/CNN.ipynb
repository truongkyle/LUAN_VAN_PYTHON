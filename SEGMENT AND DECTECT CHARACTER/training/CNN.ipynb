{
 "cells": [
  {
   "cell_type": "code",
   "execution_count": 1,
   "metadata": {},
   "outputs": [
    {
     "ename": "ModuleNotFoundError",
     "evalue": "No module named 'keras'",
     "output_type": "error",
     "traceback": [
      "\u001b[0;31m---------------------------------------------------------------------------\u001b[0m",
      "\u001b[0;31mModuleNotFoundError\u001b[0m                       Traceback (most recent call last)",
      "\u001b[0;32m<ipython-input-1-4b5cac37f61f>\u001b[0m in \u001b[0;36m<module>\u001b[0;34m\u001b[0m\n\u001b[1;32m      2\u001b[0m \u001b[0;32mimport\u001b[0m \u001b[0mnumpy\u001b[0m \u001b[0;32mas\u001b[0m \u001b[0mnp\u001b[0m\u001b[0;34m\u001b[0m\u001b[0;34m\u001b[0m\u001b[0m\n\u001b[1;32m      3\u001b[0m \u001b[0;32mimport\u001b[0m \u001b[0mmatplotlib\u001b[0m\u001b[0;34m.\u001b[0m\u001b[0mpyplot\u001b[0m \u001b[0;32mas\u001b[0m \u001b[0mplt\u001b[0m\u001b[0;34m\u001b[0m\u001b[0;34m\u001b[0m\u001b[0m\n\u001b[0;32m----> 4\u001b[0;31m \u001b[0;32mfrom\u001b[0m \u001b[0mkeras\u001b[0m\u001b[0;34m.\u001b[0m\u001b[0mmodels\u001b[0m \u001b[0;32mimport\u001b[0m \u001b[0mSequential\u001b[0m\u001b[0;34m\u001b[0m\u001b[0;34m\u001b[0m\u001b[0m\n\u001b[0m\u001b[1;32m      5\u001b[0m \u001b[0;32mfrom\u001b[0m \u001b[0mkeras\u001b[0m\u001b[0;34m.\u001b[0m\u001b[0mlayers\u001b[0m \u001b[0;32mimport\u001b[0m \u001b[0mDense\u001b[0m\u001b[0;34m,\u001b[0m \u001b[0mDropout\u001b[0m\u001b[0;34m,\u001b[0m \u001b[0mActivation\u001b[0m\u001b[0;34m,\u001b[0m \u001b[0mFlatten\u001b[0m\u001b[0;34m\u001b[0m\u001b[0;34m\u001b[0m\u001b[0m\n\u001b[1;32m      6\u001b[0m \u001b[0;32mfrom\u001b[0m \u001b[0mkeras\u001b[0m\u001b[0;34m.\u001b[0m\u001b[0mlayers\u001b[0m \u001b[0;32mimport\u001b[0m \u001b[0mConv2D\u001b[0m\u001b[0;34m,\u001b[0m \u001b[0mMaxPooling2D\u001b[0m\u001b[0;34m\u001b[0m\u001b[0;34m\u001b[0m\u001b[0m\n",
      "\u001b[0;31mModuleNotFoundError\u001b[0m: No module named 'keras'"
     ]
    }
   ],
   "source": [
    "# 1. Thêm các thư viện cần thiết\n",
    "import numpy as np\n",
    "import matplotlib.pyplot as plt\n",
    "from keras.models import Sequential\n",
    "from keras.layers import Dense, Dropout, Activation, Flatten\n",
    "from keras.layers import Conv2D, MaxPooling2D\n",
    "from keras.utils import np_utils\n",
    "from keras.datasets import mnist\n",
    "import csv\n",
    "import random"
   ]
  },
  {
   "cell_type": "code",
   "execution_count": 10,
   "metadata": {},
   "outputs": [],
   "source": [
    "def load_data(path_data):\n",
    "    data = []\n",
    "    label = []\n",
    "    with open(path_data, 'r') as csv_file:\n",
    "        result = csv.reader(csv_file)\n",
    "        data_csv = []\n",
    "    \n",
    "    # đọc từng dòng của file và thêm vào list rows, mỗi phần tử của list là một dòng\n",
    "        for row in result:\n",
    "            data_csv.append(row)\n",
    "    for letter in data_csv:\n",
    "        x = np.array([int(j) for j in letter[1:]])\n",
    "        x = x.reshape(28,28)\n",
    "        data.append(x)\n",
    "        label.append(int(letter[0]))\n",
    "    return data, label"
   ]
  },
  {
   "cell_type": "code",
   "execution_count": 11,
   "metadata": {},
   "outputs": [],
   "source": [
    "# load data and label train\n",
    "train_data = []\n",
    "train_label = []\n",
    "path_data_train = './Input_image/Plate_license_train.csv'\n",
    "train_data, train_label = load_data(path_data_train)\n",
    "# load data and label val\n",
    "val_data = []\n",
    "val_label = []\n",
    "path_data_val = './Input_image/Plate_license_val.csv'\n",
    "val_data, val_label = load_data(path_data_val)\n",
    "# load data and lable test\n",
    "test_data = []\n",
    "test_label = []\n",
    "path_data_test = './Input_image/Plate_license_test.csv'\n",
    "test_data, test_label = load_data(path_data_test)"
   ]
  },
  {
   "cell_type": "code",
   "execution_count": 12,
   "metadata": {},
   "outputs": [],
   "source": [
    "def Shuffle_data(data, label):\n",
    "    i = int(len(data))\n",
    "    shuffle_order  = list(range(i))\n",
    "    random.shuffle(shuffle_order)\n",
    "    \n",
    "    data = np.array(data)\n",
    "    label = np.array(label)\n",
    "    \n",
    "    data = data[shuffle_order]\n",
    "    label = label[shuffle_order]\n",
    "    \n",
    "    return data, label"
   ]
  },
  {
   "cell_type": "code",
   "execution_count": 13,
   "metadata": {},
   "outputs": [],
   "source": [
    "train_data, train_label = Shuffle_data(train_data, train_label)\n",
    "val_data, val_label = Shuffle_data(val_data, val_label)\n",
    "test_data, test_label = Shuffle_data(test_data, test_label)"
   ]
  },
  {
   "cell_type": "code",
   "execution_count": 15,
   "metadata": {},
   "outputs": [],
   "source": [
    "IMG_SIZE = 28\n",
    "N_CLASSES = 10\n",
    "\n",
    "input_shape=(28,28,1)"
   ]
  },
  {
   "cell_type": "code",
   "execution_count": 16,
   "metadata": {},
   "outputs": [],
   "source": [
    "train_data = train_data.reshape(train_data.shape[0], IMG_SIZE, IMG_SIZE, 1)\n",
    "val_data = val_data.reshape(val_data.shape[0], IMG_SIZE, IMG_SIZE, 1)\n",
    "test_data = test_data.reshape(test_data.shape[0], IMG_SIZE, IMG_SIZE, 1)"
   ]
  },
  {
   "cell_type": "code",
   "execution_count": 17,
   "metadata": {},
   "outputs": [],
   "source": [
    "original_label = test_label\n",
    "\n",
    "train_label =  np_utils.to_categorical(train_label, N_CLASSES)\n",
    "val_label = np_utils.to_categorical(val_label, N_CLASSES)\n",
    "test_label = np_utils.to_categorical(test_label, N_CLASSES)"
   ]
  },
  {
   "cell_type": "code",
   "execution_count": 18,
   "metadata": {},
   "outputs": [],
   "source": [
    "# 5. Định nghĩa model\n",
    "model = Sequential()\n",
    " \n",
    "# Thêm Convolutional layer với 32 kernel, kích thước kernel 3*3\n",
    "# dùng hàm sigmoid làm activation và chỉ rõ input_shape cho layer đầu tiên\n",
    "model.add(Conv2D(32, (3, 3), activation='sigmoid', input_shape=(28,28,1)))\n",
    "\n",
    "# Thêm Convolutional layer\n",
    "model.add(Conv2D(32, (3, 3), activation='sigmoid'))\n",
    "\n",
    "# Thêm Max pooling layer\n",
    "model.add(MaxPooling2D(pool_size=(2,2)))\n",
    "\n",
    "# Flatten layer chuyển từ tensor sang vector\n",
    "model.add(Flatten())\n",
    "\n",
    "# Thêm Fully Connected layer với 128 nodes và dùng hàm sigmoid\n",
    "model.add(Dense(128, activation='sigmoid'))\n",
    "\n",
    "# Output layer với 10 node và dùng softmax function để chuyển sang xác xuất.\n",
    "model.add(Dense(10, activation='softmax'))"
   ]
  },
  {
   "cell_type": "code",
   "execution_count": 19,
   "metadata": {},
   "outputs": [],
   "source": [
    "# 6. Compile model, chỉ rõ hàm loss_function nào được sử dụng, phương thức \n",
    "# đùng để tối ưu hàm loss function.\n",
    "model.compile(loss='categorical_crossentropy',\n",
    "              optimizer='adam',\n",
    "              metrics=['accuracy'])"
   ]
  },
  {
   "cell_type": "code",
   "execution_count": 22,
   "metadata": {},
   "outputs": [
    {
     "name": "stdout",
     "output_type": "stream",
     "text": [
      "Train on 8550 samples, validate on 2850 samples\n",
      "Epoch 1/10\n",
      "8550/8550 [==============================] - 21s 2ms/step - loss: 0.0522 - acc: 0.9911 - val_loss: 0.0750 - val_acc: 0.9807\n",
      "Epoch 2/10\n",
      "8550/8550 [==============================] - 21s 2ms/step - loss: 0.0375 - acc: 0.9926 - val_loss: 0.0701 - val_acc: 0.9814\n",
      "Epoch 3/10\n",
      "8550/8550 [==============================] - 21s 2ms/step - loss: 0.0280 - acc: 0.9947 - val_loss: 0.0603 - val_acc: 0.9835\n",
      "Epoch 4/10\n",
      "8550/8550 [==============================] - 21s 2ms/step - loss: 0.0237 - acc: 0.9954 - val_loss: 0.0703 - val_acc: 0.9811\n",
      "Epoch 5/10\n",
      "8550/8550 [==============================] - 21s 2ms/step - loss: 0.0199 - acc: 0.9965 - val_loss: 0.0563 - val_acc: 0.9846\n",
      "Epoch 6/10\n",
      "8550/8550 [==============================] - 21s 2ms/step - loss: 0.0170 - acc: 0.9966 - val_loss: 0.0541 - val_acc: 0.9835\n",
      "Epoch 7/10\n",
      "8550/8550 [==============================] - 21s 2ms/step - loss: 0.0149 - acc: 0.9972 - val_loss: 0.0480 - val_acc: 0.9881\n",
      "Epoch 8/10\n",
      "8550/8550 [==============================] - 21s 2ms/step - loss: 0.0132 - acc: 0.9974 - val_loss: 0.0573 - val_acc: 0.9839\n",
      "Epoch 9/10\n",
      "8550/8550 [==============================] - 21s 2ms/step - loss: 0.0117 - acc: 0.9974 - val_loss: 0.0532 - val_acc: 0.9860\n",
      "Epoch 10/10\n",
      "8550/8550 [==============================] - 21s 2ms/step - loss: 0.0125 - acc: 0.9968 - val_loss: 0.0524 - val_acc: 0.9860\n"
     ]
    }
   ],
   "source": [
    "H = model.fit(train_data, train_label, validation_data=(val_data, val_label),\n",
    "          batch_size=32, epochs=10, verbose=1)"
   ]
  },
  {
   "cell_type": "code",
   "execution_count": 23,
   "metadata": {},
   "outputs": [
    {
     "data": {
      "text/plain": [
       "<matplotlib.legend.Legend at 0x7fd42a2d8ba8>"
      ]
     },
     "execution_count": 23,
     "metadata": {},
     "output_type": "execute_result"
    },
    {
     "data": {
      "image/png": "[encoded data removed]",
      "text/plain": [
       "<Figure size 432x288 with 1 Axes>"
      ]
     },
     "metadata": {
      "needs_background": "light"
     },
     "output_type": "display_data"
    }
   ],
   "source": [
    "# 8. Vẽ đồ thị loss, accuracy của traning set và validation set\n",
    "fig = plt.figure()\n",
    "numOfEpoch = 10\n",
    "plt.plot(np.arange(0, numOfEpoch), H.history['loss'], label='training loss')\n",
    "plt.plot(np.arange(0, numOfEpoch), H.history['val_loss'], label='validation loss')\n",
    "plt.plot(np.arange(0, numOfEpoch), H.history['acc'], label='accuracy')\n",
    "plt.plot(np.arange(0, numOfEpoch), H.history['val_acc'], label='validation accuracy')\n",
    "plt.title('Accuracy and Loss')\n",
    "plt.xlabel('Epoch')\n",
    "plt.ylabel('Loss|Accuracy')\n",
    "plt.legend()"
   ]
  },
  {
   "cell_type": "code",
   "execution_count": 27,
   "metadata": {},
   "outputs": [
    {
     "data": {
      "image/png": "[encoded data removed]",
      "text/plain": [
       "<Figure size 432x288 with 1 Axes>"
      ]
     },
     "metadata": {
      "needs_background": "light"
     },
     "output_type": "display_data"
    },
    {
     "name": "stdout",
     "output_type": "stream",
     "text": [
      "Giá trị dự đoán:  5\n"
     ]
    }
   ],
   "source": [
    "# 10. Dự đoán ảnh\n",
    "plt.imshow(test_data[50].reshape(28,28), cmap='gray')\n",
    "plt.show()\n",
    "y_predict = model.predict(test_data[50].reshape(1,28,28,1))\n",
    "print('Giá trị dự đoán: ', np.argmax(y_predict))"
   ]
  },
  {
   "cell_type": "code",
   "execution_count": 28,
   "metadata": {},
   "outputs": [],
   "source": [
    "model.save('CNN_1_9_1CNN.hdf5')\n",
    "del model"
   ]
  },
  {
   "cell_type": "code",
   "execution_count": 30,
   "metadata": {},
   "outputs": [],
   "source": [
    "from keras.models import load_model"
   ]
  },
  {
   "cell_type": "code",
   "execution_count": 31,
   "metadata": {},
   "outputs": [],
   "source": [
    "model = load_model('CNN_1_9_1CNN.hdf5')"
   ]
  },
  {
   "cell_type": "code",
   "execution_count": null,
   "metadata": {},
   "outputs": [],
   "source": []
  }
 ],
 "metadata": {
  "kernelspec": {
   "display_name": "Python 3",
   "language": "python",
   "name": "python3"
  },
  "language_info": {
   "codemirror_mode": {
    "name": "ipython",
    "version": 3
   },
   "file_extension": ".py",
   "mimetype": "text/x-python",
   "name": "python",
   "nbconvert_exporter": "python",
   "pygments_lexer": "ipython3",
   "version": "3.6.8"
  }
 },
 "nbformat": 4,
 "nbformat_minor": 2
}
